{
  "nbformat": 4,
  "nbformat_minor": 0,
  "metadata": {
    "colab": {
      "provenance": []
    },
    "kernelspec": {
      "name": "python3",
      "display_name": "Python 3"
    },
    "language_info": {
      "name": "python"
    }
  },
  "cells": [
    {
      "cell_type": "code",
      "execution_count": null,
      "metadata": {
        "id": "fSYHkWsxjjDi"
      },
      "outputs": [],
      "source": [
        "import pandas as pd\n",
        "import json\n",
        "\n",
        "# Load the Excel file\n",
        "excel_path = '/content/translated_captions.xlsx'  # Replace with your Excel file path\n",
        "\n",
        "# Load the complete dataset from the provided Excel file\n",
        "df_full = pd.read_excel(excel_path)\n",
        "\n",
        "# Processing the full DataFrame to create the JSON structure\n",
        "# Initialize an empty list to store the image data\n",
        "images = []\n",
        "\n",
        "# Initialize counters for image ID and sentence ID\n",
        "img_id = 0\n",
        "sent_id = 0\n",
        "\n",
        "# Group the DataFrame by 'image_name' to process all captions per image\n",
        "for image_name, group in df_full.groupby('image_name'):\n",
        "    # Create a dictionary for each image\n",
        "    sent_id = 0\n",
        "    image_dict = {\n",
        "        \"sentids\": list(range(sent_id, sent_id + len(group))),\n",
        "        \"imgid\": img_id,\n",
        "        \"sentences\": [],\n",
        "        \"split\": \"train\",  # Assuming 'train' split, change as needed\n",
        "        \"filename\": image_name\n",
        "    }\n",
        "\n",
        "    # Iterate over the rows in the group to add sentences\n",
        "    for _, row in group.iterrows():\n",
        "        sentence_dict = {\n",
        "            \"tokens\": row['translated_captions'].split(),\n",
        "            \"raw\": row['translated_captions'],\n",
        "            \"imgid\": img_id,\n",
        "            \"sentid\": sent_id\n",
        "        }\n",
        "        image_dict['sentences'].append(sentence_dict)\n",
        "        sent_id += 1  # Increment sentence ID\n",
        "\n",
        "    # Append the image dictionary to the list of images\n",
        "    images.append(image_dict)\n",
        "    img_id += 1  # Increment image ID after processing each group\n",
        "\n",
        "# Convert the list of images to the final JSON structure\n",
        "json_data = json.dumps({\"images\": images}, ensure_ascii=False, indent=4)\n",
        "\n",
        "# Write the JSON data to a file\n",
        "json_output_path = '/content/captions.json'\n",
        "with open(json_output_path, 'w', encoding='utf-8') as f:\n",
        "    f.write(json_data)\n"
      ]
    }
  ]
}